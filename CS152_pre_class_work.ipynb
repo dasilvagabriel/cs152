{
  "nbformat": 4,
  "nbformat_minor": 0,
  "metadata": {
    "colab": {
      "provenance": []
    },
    "kernelspec": {
      "name": "python3",
      "display_name": "Python 3"
    },
    "language_info": {
      "name": "python"
    }
  },
  "cells": [
    {
      "cell_type": "markdown",
      "source": [
        "#Breadth-First Search in Python\n",
        "\n",
        "\n",
        "You are required to solve the following search problem in Python using a breadth-first approach:\n",
        "\n",
        "\n",
        "\n",
        "Each state is represented by an integer\n",
        "For a state k, the two successor states are 2k and 2k+1 (in this order)\n",
        "Starting at initial state 1, the goal is to reach state 1024.\n",
        "\n",
        "\n",
        "This code makes use of the class deque in the collections package.  You may need to look up the appropriate member functions to add and remove frontier elements. Add in code at the places marked \"insert code here\" using the code cell below. Answer the follow-up questions once you have done this.\n",
        "\n",
        "\n",
        "\n"
      ],
      "metadata": {
        "id": "Hr-60Hq2Nv4b"
      }
    },
    {
      "cell_type": "code",
      "execution_count": 10,
      "metadata": {
        "colab": {
          "base_uri": "https://localhost:8080/"
        },
        "id": "YoSSnvUVNsx7",
        "outputId": "95ce80ad-2820-4a62-977d-309b8f120a6c"
      },
      "outputs": [
        {
          "output_type": "stream",
          "name": "stdout",
          "text": [
            "Breadth-first search terminated after 1024 steps\n",
            "\n",
            "Size of frontier at termination is 1023\n"
          ]
        }
      ],
      "source": [
        "# [INSERT CODE HERE] Initial state\n",
        "state = 1\n",
        "\n",
        "# [INSERT CODE HERE] Define the goal here\n",
        "goal = 1024\n",
        "\n",
        "# Frontier\n",
        "from collections import deque\n",
        "frontier = deque([state])\n",
        "\n",
        "# Step counter\n",
        "steps = 0\n",
        "\n",
        "\n",
        "# Breadth-first search algorithm (continue while there are nodes in the frontier)\n",
        "while frontier:\n",
        "    # [INSERT CODE HERE] Implement a breadth-first search to reach the goal state from the initial state.\n",
        "    # The search should terminate once the goal is reached.\n",
        "    # Remember to increment the step counter to keep track of how many steps the search takes!\n",
        "    # You will need to modifu the placeholder code below.\n",
        "    steps += 1\n",
        "    next_state = frontier.popleft()\n",
        "    if next_state == goal: \n",
        "        break\n",
        "    frontier.append(next_state * 2)\n",
        "    frontier.append(next_state * 2 + 1)\n",
        "    \n",
        "    \n",
        "    \n",
        "# [INSERT CODE HERE] Find the length of the frontier by changing the line below.\n",
        "frontier_size = len(frontier)\n",
        "    \n",
        "\n",
        "print(\"Breadth-first search terminated after %d steps\\n\" % steps)\n",
        "print(\"Size of frontier at termination is %d\" % frontier_size)"
      ]
    },
    {
      "cell_type": "markdown",
      "source": [
        "###Question 2\n",
        "When do you perform your goal test and why?\n",
        "\n",
        "**Answer**:\n",
        "I perform the goal test at every step to check if it is equal to the goal, this is so that we can break the loop at the first time we see the goal state."
      ],
      "metadata": {
        "id": "LHI8N0RIOhRz"
      }
    },
    {
      "cell_type": "markdown",
      "source": [
        "###Question 3\n",
        "\n",
        "What is the impact of different initial conditions on the number of steps taken to reach the goal? Play around with the code if you are unsure!\n",
        "\n",
        "**Answer**: If the initial value is not 2^x where x is in range 0 to 10, the code will never reach the goal. If it is 2^x, as the value doubles, the number of steps halves.\n",
        "\n"
      ],
      "metadata": {
        "id": "i_R02qzsOkXX"
      }
    },
    {
      "cell_type": "code",
      "source": [],
      "metadata": {
        "id": "kKhFHscVPGZ_"
      },
      "execution_count": null,
      "outputs": []
    }
  ]
}